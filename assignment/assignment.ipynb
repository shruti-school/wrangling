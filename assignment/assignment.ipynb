{
 "cells": [
  {
   "cell_type": "markdown",
   "id": "13ad028b-72b7-43ed-aa78-96fd4e518040",
   "metadata": {
    "id": "13ad028b-72b7-43ed-aa78-96fd4e518040",
    "pycharm": {
     "name": "#%% md\n"
    }
   },
   "source": [
    "# Assignment: Data Wrangling\n",
    "## `! git clone https://github.com/DS3001/wrangling`\n",
    "## Do Q2, and one of Q1 or Q3."
   ]
  },
  {
   "cell_type": "markdown",
   "source": [
    "**Q1.** Open the \"tidy_data.pdf\" document in the repo, which is a paper called Tidy Data by Hadley Wickham.\n",
    "\n",
    "  1. Read the abstract. What is this paper about?\n",
    "    the paper talks about finding the best and easiest ways to clean data, called data tidying. He talks about how data cleaning is often overlooked and it can be a really hard and tedious task.\n",
    "\n",
    "\n",
    "  2. Read the introduction. What is the \"tidy data standard\" intended to accomplish?\n",
    "    The tidy data standard is way to standardized cleaning data by having some rules/guidelines to follow. This is to make data cleaning easier to follow and more approachable for people to learn.\n",
    "\n",
    "\n",
    "  3. Read the intro to section 2. What does this sentence mean: \"Like families, tidy datasets are all alike but every messy dataset is messy in its own way.\" What does this sentence mean: \"For a given dataset, it’s usually easy to figure out what are observations and what are variables, but it is surprisingly difficult to precisely define variables and observations in general.\"\n",
    "    The first sentence means that if a dataset is tidy then there is a standard to follow and it would make it easier to analyze the data. Messy datasets however are all different and have no standard to them at all so are hard to work with. The second sentence talks about how it can be easy to just see the structure of the dataset but hard to see what the dataset actually means and how to generalize that to an audience which also has an effect on how the data is cleaned.\n",
    "\n",
    "\n",
    "  4. Read Section 2.2. How does Wickham define values, variables, and observations?\n",
    "     He defined values to be numbers or strings. He called variables a collection of values that describe one thing or concept. And he says that observations are all of the values that pertain to one unit together.\n",
    "\n",
    "\n",
    "  5. How is \"Tidy Data\" defined in section 2.3?\n",
    "     Tidy Data is defined as a dataset where every variable is a column and every observation is its own row and one obersational unit is a table.\n",
    "\n",
    "\n",
    "  6. Read the intro to Section 3 and Section 3.1. What are the 5 most common problems with messy datasets? Why are the data in Table 4 messy? What is \"melting\" a dataset?\n",
    "     The following are the most common problems with messy datasets:\n",
    "     - Column headers contain data values (like specific years) instead of descriptive variable names\n",
    "     - Multiple variables are packed into a single column\n",
    "     - Time data often require conversion to a more standardized format\n",
    "     - Data variables are scattered across both rows and columns.\n",
    "     - Different types of observational units are combined within a single table\n",
    "     - The same observational unit is spread across multiple tables, which results in duplicated data and requires further cleaning to simplify.\n",
    "    Table 4 is considered messy because the columns correspond to values of an implicit variable, income. Income should instead have its own column with other variables. Melting\" a dataset refers to the process of reorganizing data so that the values stored in columns are shifted into rows, making the data structure more manageable.\n",
    "\n",
    "\n",
    "  7. Why, specifically, is table 11 messy but table 12 tidy and \"molten\"?\n",
    "    Table 11 is messy because instead of a variable on the top it has values which are the says but table 12 is molten because it put all of the days together under a variable called date.\n",
    "\n",
    "\n",
    "  8. Read Section 6. What is the \"chicken-and-egg\" problem with focusing on tidy data? What does Wickham hope happens in the future with further work on the subject of data wrangling?\n",
    "    The chicken and egg problem is that we associated the data cleaning tools too much with the actual data cleaning. He is hoping that in the future data cleaning becomes a more robust structure and school of thought rather than a thing just based on the tools used."
   ],
   "metadata": {
    "collapsed": false,
    "pycharm": {
     "name": "#%% md\n"
    }
   }
  },
  {
   "cell_type": "markdown",
   "id": "da879ea7-8aac-48a3-b6c2-daea56d2e072",
   "metadata": {
    "id": "da879ea7-8aac-48a3-b6c2-daea56d2e072",
    "pycharm": {
     "name": "#%% md\n"
    }
   },
   "source": [
    "**Q2.** This question provides some practice cleaning variables which have common problems.\n",
    "1. Numeric variable: For `./data/airbnb_hw.csv`, clean the `Price` variable as well as you can, and explain the choices you make. How many missing values do you end up with? (Hint: What happens to the formatting when a price goes over 999 dollars, say from 675 to 1,112?)\n",
    "2. Categorical variable: For the `./data/sharks.csv` data covered in the lecture, clean the \"Type\" variable as well as you can, and explain the choices you make.\n",
    "3. Dummy variable: For the pretrial data covered in the lecture, clean the `WhetherDefendantWasReleasedPretrial` variable as well as you can, and, in particular, replace missing values with `np.nan`.\n",
    "4. Missing values, not at random: For the pretrial data covered in the lecture, clean the `ImposedSentenceAllChargeInContactEvent` variable as well as you can, and explain the choices you make. (Hint: Look at the `SentenceTypeAllChargesAtConvictionInContactEvent` variable.)"
   ]
  },
  {
   "cell_type": "code",
   "execution_count": 15,
   "outputs": [
    {
     "name": "stdout",
     "output_type": "stream",
     "text": [
      "(30478, 13) \n",
      "\n"
     ]
    },
    {
     "data": {
      "text/plain": "    Host Id Host Since                                Name Neighbourhood   \\\n0   5162530        NaN     1 Bedroom in Prime Williamsburg       Brooklyn   \n1  33134899        NaN     Sunny, Private room in Bushwick       Brooklyn   \n2  39608626        NaN                Sunny Room in Harlem      Manhattan   \n3       500  6/26/2008  Gorgeous 1 BR with Private Balcony      Manhattan   \n4       500  6/26/2008            Trendy Times Square Loft      Manhattan   \n\n  Property Type  Review Scores Rating (bin)        Room Type  Zipcode  Beds  \\\n0     Apartment                         NaN  Entire home/apt  11249.0   1.0   \n1     Apartment                         NaN     Private room  11206.0   1.0   \n2     Apartment                         NaN     Private room  10032.0   1.0   \n3     Apartment                         NaN  Entire home/apt  10024.0   3.0   \n4     Apartment                        95.0     Private room  10036.0   3.0   \n\n   Number of Records  Number Of Reviews Price  Review Scores Rating  \n0                  1                  0   145                   NaN  \n1                  1                  1    37                   NaN  \n2                  1                  1    28                   NaN  \n3                  1                  0   199                   NaN  \n4                  1                 39   549                  96.0  ",
      "text/html": "<div>\n<style scoped>\n    .dataframe tbody tr th:only-of-type {\n        vertical-align: middle;\n    }\n\n    .dataframe tbody tr th {\n        vertical-align: top;\n    }\n\n    .dataframe thead th {\n        text-align: right;\n    }\n</style>\n<table border=\"1\" class=\"dataframe\">\n  <thead>\n    <tr style=\"text-align: right;\">\n      <th></th>\n      <th>Host Id</th>\n      <th>Host Since</th>\n      <th>Name</th>\n      <th>Neighbourhood</th>\n      <th>Property Type</th>\n      <th>Review Scores Rating (bin)</th>\n      <th>Room Type</th>\n      <th>Zipcode</th>\n      <th>Beds</th>\n      <th>Number of Records</th>\n      <th>Number Of Reviews</th>\n      <th>Price</th>\n      <th>Review Scores Rating</th>\n    </tr>\n  </thead>\n  <tbody>\n    <tr>\n      <th>0</th>\n      <td>5162530</td>\n      <td>NaN</td>\n      <td>1 Bedroom in Prime Williamsburg</td>\n      <td>Brooklyn</td>\n      <td>Apartment</td>\n      <td>NaN</td>\n      <td>Entire home/apt</td>\n      <td>11249.0</td>\n      <td>1.0</td>\n      <td>1</td>\n      <td>0</td>\n      <td>145</td>\n      <td>NaN</td>\n    </tr>\n    <tr>\n      <th>1</th>\n      <td>33134899</td>\n      <td>NaN</td>\n      <td>Sunny, Private room in Bushwick</td>\n      <td>Brooklyn</td>\n      <td>Apartment</td>\n      <td>NaN</td>\n      <td>Private room</td>\n      <td>11206.0</td>\n      <td>1.0</td>\n      <td>1</td>\n      <td>1</td>\n      <td>37</td>\n      <td>NaN</td>\n    </tr>\n    <tr>\n      <th>2</th>\n      <td>39608626</td>\n      <td>NaN</td>\n      <td>Sunny Room in Harlem</td>\n      <td>Manhattan</td>\n      <td>Apartment</td>\n      <td>NaN</td>\n      <td>Private room</td>\n      <td>10032.0</td>\n      <td>1.0</td>\n      <td>1</td>\n      <td>1</td>\n      <td>28</td>\n      <td>NaN</td>\n    </tr>\n    <tr>\n      <th>3</th>\n      <td>500</td>\n      <td>6/26/2008</td>\n      <td>Gorgeous 1 BR with Private Balcony</td>\n      <td>Manhattan</td>\n      <td>Apartment</td>\n      <td>NaN</td>\n      <td>Entire home/apt</td>\n      <td>10024.0</td>\n      <td>3.0</td>\n      <td>1</td>\n      <td>0</td>\n      <td>199</td>\n      <td>NaN</td>\n    </tr>\n    <tr>\n      <th>4</th>\n      <td>500</td>\n      <td>6/26/2008</td>\n      <td>Trendy Times Square Loft</td>\n      <td>Manhattan</td>\n      <td>Apartment</td>\n      <td>95.0</td>\n      <td>Private room</td>\n      <td>10036.0</td>\n      <td>3.0</td>\n      <td>1</td>\n      <td>39</td>\n      <td>549</td>\n      <td>96.0</td>\n    </tr>\n  </tbody>\n</table>\n</div>"
     },
     "execution_count": 15,
     "metadata": {},
     "output_type": "execute_result"
    }
   ],
   "source": [
    "import pandas as pd\n",
    "df = pd.read_csv('./data/airbnb_hw.csv')\n",
    "print( df.shape, '\\n')\n",
    "df.head()"
   ],
   "metadata": {
    "collapsed": false,
    "pycharm": {
     "name": "#%%\n"
    }
   }
  },
  {
   "cell_type": "code",
   "execution_count": 16,
   "outputs": [
    {
     "name": "stdout",
     "output_type": "stream",
     "text": [
      "[  145    37    28   199   549   149   250    90   270   290   170    59\n",
      "    49    68   285    75   100   150   700   125   175    40    89    95\n",
      "    99   499   120    79   110   180   143   230   350   135    85    60\n",
      "    70    55    44   200   165   115    74    84   129    50   185    80\n",
      "   190   140    45    65   225   600   109  1990    73   240    72   105\n",
      "   155   160    42   132   117   295   280   159   107    69   239   220\n",
      "   399   130   375   585   275   139   260    35   133   300   289   179\n",
      "    98   195    29    27    39   249   192   142   169  1000   131   138\n",
      "   113   122   329   101   475   238   272   308   126   235   315   248\n",
      "   128    56   207   450   215   210   385   445   136   247   118    77\n",
      "    76    92   198   205   299   222   245   104   153   349   114   320\n",
      "   292   226   420   500   325   307    78   265   108   123   189    32\n",
      "    58    86   219   800   335    63   229   425    67    87  1200   158\n",
      "   650   234   310   695   400   166   119    62   168   340   479    43\n",
      "   395   144    52    47   529   187   209   233    82   269   163   172\n",
      "   305   156   550   435   137   124    48   279   330  5000   134   378\n",
      "    97   277    64   193   147   186   264    30  3000   112    94   379\n",
      "    57   415   236   410   214    88    66    71   171   157   545  1500\n",
      "    83    96  1800    81   188   380   255   505    54    33   174    93\n",
      "   740   640  1300   440   599   357  1239   495   127  5999   178   348\n",
      "   152   242   183   253   750   259   365   273   197   397   103   389\n",
      "   355   559    38   203   999   141   162   333   698    46   360   895\n",
      "    10    41   206   281   449   388   212   102   201  2750  4750   432\n",
      "   675   167   390   298   339   194   302   211   595   191    53   361\n",
      "   480  8000  4500   459   997   345   216   218   111   735   276    91\n",
      "   490   850   398    36   775   267   625   336  2500   176   725  3750\n",
      "   469   106   460   287   575   227   263    25   228   208   177   880\n",
      "   148   116   685   470   217   164    61   645   699   405   252   319\n",
      "   268   419   343   525   311   840   154   294   950   409   184   257\n",
      "   204   241  2000   412   121   288   196   900   647   524  1750   309\n",
      "   510  1495  1700   799   383   372   492   327  1999   656   224   173\n",
      "   875  1170   795   690   146   465  1100   151   274   429   825   282\n",
      "   256  1111   620   271   161    51   855   579  1174   430    20   899\n",
      "   649   485   181   455  4000   243   342   590   560   374   437   232\n",
      "   359   985    31   244   254   723   237   428   370    34  1400   580\n",
      "  2520   221   749  1600  2695   306   202   680   570   520   223  2295\n",
      "   213  1065   346    24   286   296   266    26   995  1368   393   182\n",
      "   635   258   780   589   347  1250  1350   446  3200  1050  1650  1550\n",
      "   975   323  6500  2499  1850  2250   715   461   540   356   439   384\n",
      "   569  1900    22   785   626   830   318   444   321   401  1499   888\n",
      "   369   770   386   366   344   630   313   597   262   509 10000   278\n",
      "   312   789  1195   422    21   765  3500   945   326  3100  2486  3390\n",
      "  1356  2599   472   454   328   396   291] \n",
      "\n"
     ]
    }
   ],
   "source": [
    "price = df['Price']\n",
    "price.unique()\n",
    "#these are all strings because there are ,s in the numbers\n",
    "\n",
    "price = price.str.replace(',','')\n",
    "price = pd.to_numeric(price,errors='coerce')\n",
    "print( price.unique() , '\\n')\n",
    "#removing all commas and then casting to numeric type"
   ],
   "metadata": {
    "collapsed": false,
    "pycharm": {
     "name": "#%%\n"
    }
   }
  },
  {
   "cell_type": "code",
   "execution_count": 17,
   "outputs": [
    {
     "name": "stdout",
     "output_type": "stream",
     "text": [
      "Unprovoked    4716\n",
      "Provoked       593\n",
      "Watercraft     583\n",
      "Name: Type, dtype: int64\n"
     ]
    }
   ],
   "source": [
    "import numpy as np\n",
    "df = pd.read_csv('./data/sharks.csv', low_memory=False)\n",
    "df['Type'].value_counts()\n",
    "\n",
    "type = df['Type']\n",
    "type = type.replace(['Sea Disaster', 'Boat','Boating','Boatomg'],'Watercraft')\n",
    "#the water accidents are not grouped together so we are making all of them into watercraft\n",
    "type.value_counts()\n",
    "\n",
    "type = type.replace(['Invalid', 'Questionable','Unconfirmed','Unverified','Under investigation'],np.nan)\n",
    "#making sure all of the unclean values are just NAN\n",
    "print(type.value_counts())\n",
    "df['Type'] = type\n"
   ],
   "metadata": {
    "collapsed": false,
    "pycharm": {
     "name": "#%%\n"
    }
   }
  },
  {
   "cell_type": "code",
   "execution_count": 18,
   "outputs": [
    {
     "name": "stdout",
     "output_type": "stream",
     "text": [
      "Requirement already satisfied: pyarrow in c:\\users\\shruti bala\\appdata\\roaming\\python\\python310\\site-packages (17.0.0)\n",
      "Requirement already satisfied: fastparquet in c:\\users\\shruti bala\\appdata\\roaming\\python\\python310\\site-packages (2024.5.0)\n",
      "Requirement already satisfied: numpy>=1.16.6 in c:\\users\\shruti bala\\appdata\\roaming\\python\\python310\\site-packages (from pyarrow) (1.22.4)\n",
      "Requirement already satisfied: pandas>=1.5.0 in c:\\users\\shruti bala\\appdata\\local\\programs\\python\\python310\\lib\\site-packages (from fastparquet) (2.2.3)\n",
      "Requirement already satisfied: packaging in c:\\users\\shruti bala\\appdata\\local\\programs\\python\\python310\\lib\\site-packages (from fastparquet) (21.3)\n",
      "Requirement already satisfied: cramjam>=2.3 in c:\\users\\shruti bala\\appdata\\roaming\\python\\python310\\site-packages (from fastparquet) (2.8.3)\n",
      "Requirement already satisfied: fsspec in c:\\users\\shruti bala\\appdata\\roaming\\python\\python310\\site-packages (from fastparquet) (2024.9.0)\n",
      "Requirement already satisfied: pytz>=2020.1 in c:\\users\\shruti bala\\appdata\\roaming\\python\\python310\\site-packages (from pandas>=1.5.0->fastparquet) (2022.1)\n",
      "Requirement already satisfied: tzdata>=2022.7 in c:\\users\\shruti bala\\appdata\\local\\programs\\python\\python310\\lib\\site-packages (from pandas>=1.5.0->fastparquet) (2024.1)\n",
      "Requirement already satisfied: python-dateutil>=2.8.2 in c:\\users\\shruti bala\\appdata\\local\\programs\\python\\python310\\lib\\site-packages (from pandas>=1.5.0->fastparquet) (2.8.2)\n",
      "Requirement already satisfied: six>=1.5 in c:\\users\\shruti bala\\appdata\\local\\programs\\python\\python310\\lib\\site-packages (from python-dateutil>=2.8.2->pandas>=1.5.0->fastparquet) (1.16.0)\n",
      "Requirement already satisfied: pyparsing!=3.0.5,>=2.0.2 in c:\\users\\shruti bala\\appdata\\local\\programs\\python\\python310\\lib\\site-packages (from packaging->fastparquet) (3.0.9)\n"
     ]
    },
    {
     "name": "stderr",
     "output_type": "stream",
     "text": [
      "WARNING: You are using pip version 21.2.4; however, version 24.2 is available.\n",
      "You should consider upgrading via the 'C:\\Users\\Shruti Bala\\AppData\\Local\\Programs\\Python\\Python310\\python.exe -m pip install --upgrade pip' command.\n"
     ]
    }
   ],
   "source": [
    "!pip install --user pyarrow fastparquet"
   ],
   "metadata": {
    "collapsed": false,
    "pycharm": {
     "name": "#%%\n"
    }
   }
  },
  {
   "cell_type": "code",
   "execution_count": 19,
   "outputs": [],
   "source": [
    "df = pd.read_parquet('C:\\\\Users\\\\Shruti Bala\\\\OneDrive - University of Virginia\\\\school\\\\DS 3001 Foundations of ML\\\\hw2\\\\assignment\\\\data\\\\justice_data.parquet')\n",
    "release = df['WhetherDefendantWasReleasedPretrial']\n",
    "\n",
    "release = release.replace(9,np.nan)\n",
    "#we dont know what 9 is so we want to replace that\n",
    "sum(release.isnull())\n",
    "# There are 31 missing values\n",
    "df['WhetherDefendantWasReleasedPretrial'] = release"
   ],
   "metadata": {
    "collapsed": false,
    "pycharm": {
     "name": "#%%\n"
    }
   }
  },
  {
   "cell_type": "code",
   "execution_count": 20,
   "outputs": [
    {
     "name": "stdout",
     "output_type": "stream",
     "text": [
      "9053 \n",
      "\n",
      "274 \n",
      "\n"
     ]
    }
   ],
   "source": [
    "length = df['ImposedSentenceAllChargeInContactEvent']\n",
    "type = df['SentenceTypeAllChargesAtConvictionInContactEvent']\n",
    "\n",
    "length = pd.to_numeric(length,errors='coerce')\n",
    "#this is in a string so we want it to be ints\n",
    "length_NA = length.isnull()\n",
    "#this is to funnel all of the missing information\n",
    "print( np.sum(length_NA),'\\n')\n",
    "#shows there are a lot of msising values\n",
    "length = length.mask( type == 4, 0)\n",
    "length = length.mask( type == 9, np.nan)\n",
    "#replacing type 4 with 0 and 9 with Nan\n",
    "\n",
    "length_NA = length.isnull()\n",
    "print( np.sum(length_NA),'\\n')\n",
    "# went downt o only 274 missing\n",
    "\n",
    "df['ImposedSentenceAllChargeInContactEvent'] = length"
   ],
   "metadata": {
    "collapsed": false,
    "pycharm": {
     "name": "#%%\n"
    }
   }
  },
  {
   "cell_type": "markdown",
   "id": "649494cd-cfd6-4f80-992a-9994fc19e1d5",
   "metadata": {
    "id": "649494cd-cfd6-4f80-992a-9994fc19e1d5",
    "pycharm": {
     "name": "#%% md\n"
    }
   },
   "source": [
    "**Q3.** Many important datasets contain a race variable, typically limited to a handful of values often including Black, White, Asian, Latino, and Indigenous. This question looks at data gathering efforts on this variable by the U.S. Federal government.\n",
    "\n",
    "1. How did the most recent US Census gather data on race?\n",
    "The US Census gathered this data through surveying people and self reporting. People were asked to select their race from a dropdown menu.\n",
    "\n",
    "2. Why do we gather these data? What role do these kinds of data play in politics and society? Why does data quality matter?\n",
    "This data is important because it can inform us about how different demographics view certain issues and what we can do to make sure that all demographics are included in political decisions. We father this data so that politicians are able to see what kind of policies they need to make to help everyone and for campaigning to different groups. The quality of this data matters so that everyone is represented in these political decisions.\n",
    "\n",
    "3. Please provide a constructive criticism of how the Census was conducted: What was done well? What do you think was missing? How should future large scale surveys be adjusted to best reflect the diversity of the population? Could some of the Census' good practices be adopted more widely to gather richer and more useful data?\n",
    "I thought that the data was gathered well and I think that self identifying was a good way to do this. I think that any way of data sampling is going to end up with a lot of people msised because the reality is a lot of people don't want their data to be sampled.\n",
    "\n",
    "4. How did the Census gather data on sex and gender? Please provide a similar constructive criticism of their practices.\n",
    "The 2020 U.S. Census gathered data on sex by asking respondents to identify as either \"male\" or \"female.\" There was no explicit option for non-binary or other gender identities. While the Census allowed respondents to self-identify their race and ethnicity with more flexibility, the approach to gender was more binary. I think that there could be an option to include more genders or let people self identify instead of just male and female because it leaves out a whole dmeographic of people.\n",
    "\n",
    "\n",
    "5. When it comes to cleaning data, what concerns do you have about protected characteristics like sex, gender, sexual identity, or race? What challenges can you imagine arising when there are missing values? What good or bad practices might people adopt, and why?\n",
    "\n",
    "When it comes to cleaning data on protected characteristics like sex, gender, sexual identity, or race, several significant concerns emerge. One major issue is the potential for erasure and bias based on how you clean the data. If missing values are filled in based on assumptions or dominant group values, this would erase so many people and their identities from the data. Additionally, simplifying complex identities into broad categories means that you are also simplifying the data too much and losing its integrity. Good practices involve transparency in how missing data is handled, engaging community input, and using diverse datasets for more accurate imputation. Bad practices can include ignoring missing values or using overly simplistic methods.\n",
    "\n",
    "7. Suppose someone invented an algorithm to impute values for protected characteristics like race, gender, sex, or sexuality. What kinds of concerns would you have?\n",
    "If someone were to develop an algorithm to impute values for protected characteristics like race, gender, sex, or sexuality, several serious concerns would arise. One of the primary ethical implications is the risk of reinforcing existing biases. Algorithms trained on biased data can perpetuate stereotypes and misrepresent marginalized groups, ultimately leading to harmful outcomes. Additionally, such imputation practices can undermine individual agency by erasing unique identities and experiences. Even AI models like ChatGPT has a lot of bias based on how it was trained so this could be very harmful if it is not monitored properly."
   ]
  }
 ],
 "metadata": {
  "colab": {
   "provenance": []
  },
  "kernelspec": {
   "display_name": "Python 3 (ipykernel)",
   "language": "python",
   "name": "python3"
  },
  "language_info": {
   "codemirror_mode": {
    "name": "ipython",
    "version": 3
   },
   "file_extension": ".py",
   "mimetype": "text/x-python",
   "name": "python",
   "nbconvert_exporter": "python",
   "pygments_lexer": "ipython3",
   "version": "3.10.4"
  }
 },
 "nbformat": 4,
 "nbformat_minor": 5
}